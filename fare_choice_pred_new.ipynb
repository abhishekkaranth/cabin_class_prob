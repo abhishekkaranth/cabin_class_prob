{
 "cells": [
  {
   "cell_type": "markdown",
   "metadata": {},
   "source": [
    "# Fare Choice Prediction Challenge"
   ]
  },
  {
   "cell_type": "markdown",
   "metadata": {},
   "source": [
    "### A passenger has different options when it comes to booking a flight ticket. It can be classic fare(no scope for cancellation), saver fare(discounted fare), flexible fare(scope for cancellation) etc. \n",
    "### Predicting this demand correctly before hand can give airlines advantages in maximizing its revenue and also better plan the fare distribution.\n",
    "### This exercise aims to predict the probablity of booking of each of the four different fare choices available to a passenger based on features such as booking date, departure date, origin, destination, no. of passengers etc.\n",
    "### NOTE: The orign, destination and the fare choice are encoded to maintain confidentiality of the data. As these are categorical, the encoding in no way affects the working of the model. It only masks the actual categories these columns represents.\n",
    "### We use a Random Forest Model to solve the problem in hand and also use log_loss(cross entropy) as the metric which we are trying to minimize."
   ]
  },
  {
   "cell_type": "code",
   "execution_count": 1,
   "metadata": {
    "ExecuteTime": {
     "end_time": "2018-03-08T08:38:43.728783Z",
     "start_time": "2018-03-08T08:38:43.684202Z"
    }
   },
   "outputs": [
    {
     "data": {
      "text/html": [
       "<style>.container { width:95% !important; } .dataframe td {white-space: nowrap; } </style>"
      ],
      "text/plain": [
       "<IPython.core.display.HTML object>"
      ]
     },
     "metadata": {},
     "output_type": "display_data"
    }
   ],
   "source": [
    "from IPython.core.display import display, HTML\n",
    "display(HTML(\n",
    "    \"<style>.container { width:95% !important; } .dataframe td {white-space: nowrap; } </style>\"))\n",
    "from IPython.core.interactiveshell import InteractiveShell\n",
    "InteractiveShell.ast_node_interactivity = \"all\""
   ]
  },
  {
   "cell_type": "code",
   "execution_count": 2,
   "metadata": {
    "ExecuteTime": {
     "end_time": "2018-03-08T09:32:57.155711Z",
     "start_time": "2018-03-08T09:32:57.080325Z"
    }
   },
   "outputs": [],
   "source": [
    "# import statements\n",
    "import math\n",
    "import pandas as pd\n",
    "import numpy as np\n",
    "\n",
    "import matplotlib.pyplot as plt\n",
    "import seaborn as sns\n",
    "\n",
    "from sklearn.ensemble import RandomForestClassifier\n",
    "from sklearn.model_selection import train_test_split, GridSearchCV, RandomizedSearchCV\n",
    "from sklearn.metrics import confusion_matrix, classification_report, log_loss, f1_score, accuracy_score\n",
    "\n",
    "%matplotlib inline\n",
    "pd.set_option('display.max_rows', 30)\n",
    "pd.set_option('display.max_columns', 100)"
   ]
  },
  {
   "cell_type": "code",
   "execution_count": 3,
   "metadata": {},
   "outputs": [],
   "source": [
    "def build_features(df):\n",
    "    \"\"\"\n",
    "    Feature Engineering with the help of existing columns\n",
    "\n",
    "    Args:\n",
    "        df (str): Dataframe to be enriched.\n",
    "\n",
    "    Returns:\n",
    "        DataFrame. The enriched dataframe with new features\n",
    "    \"\"\"\n",
    "    df = df.copy(deep=True)\n",
    "    # Extract date related features wrt booking date.\n",
    "    df['booking_month'] = df['booking_date'].dt.month\n",
    "    df['booking_week'] = df['booking_date'].dt.isocalendar().week\n",
    "    df['booking_day'] = df['booking_date'].dt.weekday\n",
    "\n",
    "    # Extract time and date related features wrt departure date.\n",
    "    df['dep_day'] = df['dep_date'].dt.weekday\n",
    "    df['dep_time_str'] =  np.where(df['dep_time'] < 1000, '0' + df['dep_time'].astype(str), df['dep_time'].astype(str))\n",
    "    df['dep_hour'] = df['dep_time_str'].str[:2].astype(int)\n",
    "    # Introduce sine and cosine components as 00:00 and 23:00 hrs are close to each other.\n",
    "    # Without this cyclic representation, they will be far apart in linear representation.\n",
    "    df['dep_hour_sine'] = np.sin(2 * math.pi * (df['dep_hour'] / 23))\n",
    "    df['dep_hour_cosine'] = np.cos(2 * math.pi * (df['dep_hour'] / 23))\n",
    "\n",
    "    # Calculate the number of days before which the flight was booked.\n",
    "    df['advance_purchase'] = (df['dep_date'] - df['booking_date']).dt.days\n",
    "\n",
    "    return df\n",
    "\n"
   ]
  },
  {
   "cell_type": "markdown",
   "metadata": {},
   "source": [
    "#### fare_choice represents the dependent variable and all other columns are independent features"
   ]
  },
  {
   "cell_type": "code",
   "execution_count": 4,
   "metadata": {
    "ExecuteTime": {
     "end_time": "2018-03-08T09:59:32.771971Z",
     "start_time": "2018-03-08T09:59:32.663640Z"
    }
   },
   "outputs": [
    {
     "data": {
      "text/plain": [
       "(73830, 8)"
      ]
     },
     "execution_count": 4,
     "metadata": {},
     "output_type": "execute_result"
    },
    {
     "data": {
      "text/html": [
       "<div>\n",
       "<style scoped>\n",
       "    .dataframe tbody tr th:only-of-type {\n",
       "        vertical-align: middle;\n",
       "    }\n",
       "\n",
       "    .dataframe tbody tr th {\n",
       "        vertical-align: top;\n",
       "    }\n",
       "\n",
       "    .dataframe thead th {\n",
       "        text-align: right;\n",
       "    }\n",
       "</style>\n",
       "<table border=\"1\" class=\"dataframe\">\n",
       "  <thead>\n",
       "    <tr style=\"text-align: right;\">\n",
       "      <th></th>\n",
       "      <th>id</th>\n",
       "      <th>booking_date</th>\n",
       "      <th>origin</th>\n",
       "      <th>destination</th>\n",
       "      <th>dep_date</th>\n",
       "      <th>dep_time</th>\n",
       "      <th>pax</th>\n",
       "      <th>fare_choice</th>\n",
       "    </tr>\n",
       "  </thead>\n",
       "  <tbody>\n",
       "    <tr>\n",
       "      <th>0</th>\n",
       "      <td>1</td>\n",
       "      <td>2017-02-10</td>\n",
       "      <td>G</td>\n",
       "      <td>D</td>\n",
       "      <td>2017-06-01</td>\n",
       "      <td>630</td>\n",
       "      <td>2</td>\n",
       "      <td>2</td>\n",
       "    </tr>\n",
       "    <tr>\n",
       "      <th>1</th>\n",
       "      <td>2</td>\n",
       "      <td>2017-05-27</td>\n",
       "      <td>D</td>\n",
       "      <td>B</td>\n",
       "      <td>2017-06-01</td>\n",
       "      <td>1745</td>\n",
       "      <td>1</td>\n",
       "      <td>1</td>\n",
       "    </tr>\n",
       "    <tr>\n",
       "      <th>2</th>\n",
       "      <td>3</td>\n",
       "      <td>2017-05-30</td>\n",
       "      <td>B</td>\n",
       "      <td>D</td>\n",
       "      <td>2017-06-01</td>\n",
       "      <td>900</td>\n",
       "      <td>1</td>\n",
       "      <td>4</td>\n",
       "    </tr>\n",
       "    <tr>\n",
       "      <th>3</th>\n",
       "      <td>4</td>\n",
       "      <td>2017-05-30</td>\n",
       "      <td>B</td>\n",
       "      <td>A</td>\n",
       "      <td>2017-06-01</td>\n",
       "      <td>2130</td>\n",
       "      <td>2</td>\n",
       "      <td>1</td>\n",
       "    </tr>\n",
       "    <tr>\n",
       "      <th>4</th>\n",
       "      <td>5</td>\n",
       "      <td>2017-05-30</td>\n",
       "      <td>D</td>\n",
       "      <td>B</td>\n",
       "      <td>2017-06-01</td>\n",
       "      <td>1240</td>\n",
       "      <td>1</td>\n",
       "      <td>1</td>\n",
       "    </tr>\n",
       "  </tbody>\n",
       "</table>\n",
       "</div>"
      ],
      "text/plain": [
       "   id booking_date origin destination   dep_date  dep_time  pax  fare_choice\n",
       "0   1   2017-02-10      G           D 2017-06-01       630    2            2\n",
       "1   2   2017-05-27      D           B 2017-06-01      1745    1            1\n",
       "2   3   2017-05-30      B           D 2017-06-01       900    1            4\n",
       "3   4   2017-05-30      B           A 2017-06-01      2130    2            1\n",
       "4   5   2017-05-30      D           B 2017-06-01      1240    1            1"
      ]
     },
     "execution_count": 4,
     "metadata": {},
     "output_type": "execute_result"
    }
   ],
   "source": [
    "# Read in the training data\n",
    "train_df = pd.read_csv('train_encoded.csv', sep='^', na_filter=False, low_memory=False,\n",
    "                       parse_dates=['booking_date', 'dep_date'], infer_datetime_format=True)\n",
    "\n",
    "train_df.shape\n",
    "train_df.head()"
   ]
  },
  {
   "cell_type": "markdown",
   "metadata": {},
   "source": [
    "## EDA"
   ]
  },
  {
   "cell_type": "markdown",
   "metadata": {},
   "source": [
    "#### We see that there are no missing values. Just to make sure, we check unique values for categories and see that they don't represent any misisng values such as '?' or '-'"
   ]
  },
  {
   "cell_type": "code",
   "execution_count": 5,
   "metadata": {},
   "outputs": [
    {
     "name": "stdout",
     "output_type": "stream",
     "text": [
      "<class 'pandas.core.frame.DataFrame'>\n",
      "RangeIndex: 73830 entries, 0 to 73829\n",
      "Data columns (total 8 columns):\n",
      " #   Column        Non-Null Count  Dtype         \n",
      "---  ------        --------------  -----         \n",
      " 0   id            73830 non-null  int64         \n",
      " 1   booking_date  73830 non-null  datetime64[ns]\n",
      " 2   origin        73830 non-null  object        \n",
      " 3   destination   73830 non-null  object        \n",
      " 4   dep_date      73830 non-null  datetime64[ns]\n",
      " 5   dep_time      73830 non-null  int64         \n",
      " 6   pax           73830 non-null  int64         \n",
      " 7   fare_choice   73830 non-null  int64         \n",
      "dtypes: datetime64[ns](2), int64(4), object(2)\n",
      "memory usage: 4.5+ MB\n"
     ]
    }
   ],
   "source": [
    "train_df.info()"
   ]
  },
  {
   "cell_type": "markdown",
   "metadata": {},
   "source": [
    "#### The unique values seem good. There are 7 unique origins and 5 unique destinations"
   ]
  },
  {
   "cell_type": "code",
   "execution_count": 6,
   "metadata": {},
   "outputs": [
    {
     "data": {
      "text/plain": [
       "array(['G', 'D', 'B', 'A', 'F', 'E', 'C'], dtype=object)"
      ]
     },
     "execution_count": 6,
     "metadata": {},
     "output_type": "execute_result"
    },
    {
     "data": {
      "text/plain": [
       "array(['D', 'B', 'A', 'C', 'G'], dtype=object)"
      ]
     },
     "execution_count": 6,
     "metadata": {},
     "output_type": "execute_result"
    }
   ],
   "source": [
    "train_df['origin'].unique()\n",
    "train_df['destination'].unique()"
   ]
  },
  {
   "cell_type": "markdown",
   "metadata": {},
   "source": [
    "#### Convert the object type features and the prediction variable to categories"
   ]
  },
  {
   "cell_type": "code",
   "execution_count": 7,
   "metadata": {},
   "outputs": [],
   "source": [
    "train_df['origin'] = train_df['origin'].astype('category')\n",
    "train_df['destination'] = train_df['destination'].astype('category')\n",
    "train_df['fare_choice'] = train_df['fare_choice'].astype('category')"
   ]
  },
  {
   "cell_type": "code",
   "execution_count": 8,
   "metadata": {},
   "outputs": [
    {
     "name": "stderr",
     "output_type": "stream",
     "text": [
      "<ipython-input-8-1e2903f7da16>:1: FutureWarning: Treating datetime data as categorical rather than numeric in `.describe` is deprecated and will be removed in a future version of pandas. Specify `datetime_is_numeric=True` to silence this warning and adopt the future behavior now.\n",
      "  train_df.describe(include='all')\n"
     ]
    },
    {
     "data": {
      "text/html": [
       "<div>\n",
       "<style scoped>\n",
       "    .dataframe tbody tr th:only-of-type {\n",
       "        vertical-align: middle;\n",
       "    }\n",
       "\n",
       "    .dataframe tbody tr th {\n",
       "        vertical-align: top;\n",
       "    }\n",
       "\n",
       "    .dataframe thead th {\n",
       "        text-align: right;\n",
       "    }\n",
       "</style>\n",
       "<table border=\"1\" class=\"dataframe\">\n",
       "  <thead>\n",
       "    <tr style=\"text-align: right;\">\n",
       "      <th></th>\n",
       "      <th>id</th>\n",
       "      <th>booking_date</th>\n",
       "      <th>origin</th>\n",
       "      <th>destination</th>\n",
       "      <th>dep_date</th>\n",
       "      <th>dep_time</th>\n",
       "      <th>pax</th>\n",
       "      <th>fare_choice</th>\n",
       "    </tr>\n",
       "  </thead>\n",
       "  <tbody>\n",
       "    <tr>\n",
       "      <th>count</th>\n",
       "      <td>73830.000000</td>\n",
       "      <td>73830</td>\n",
       "      <td>73830</td>\n",
       "      <td>73830</td>\n",
       "      <td>73830</td>\n",
       "      <td>73830.000000</td>\n",
       "      <td>73830.000000</td>\n",
       "      <td>73830.0</td>\n",
       "    </tr>\n",
       "    <tr>\n",
       "      <th>unique</th>\n",
       "      <td>NaN</td>\n",
       "      <td>200</td>\n",
       "      <td>7</td>\n",
       "      <td>5</td>\n",
       "      <td>23</td>\n",
       "      <td>NaN</td>\n",
       "      <td>NaN</td>\n",
       "      <td>4.0</td>\n",
       "    </tr>\n",
       "    <tr>\n",
       "      <th>top</th>\n",
       "      <td>NaN</td>\n",
       "      <td>2017-06-02 00:00:00</td>\n",
       "      <td>B</td>\n",
       "      <td>B</td>\n",
       "      <td>2017-06-23 00:00:00</td>\n",
       "      <td>NaN</td>\n",
       "      <td>NaN</td>\n",
       "      <td>1.0</td>\n",
       "    </tr>\n",
       "    <tr>\n",
       "      <th>freq</th>\n",
       "      <td>NaN</td>\n",
       "      <td>3822</td>\n",
       "      <td>22360</td>\n",
       "      <td>32962</td>\n",
       "      <td>3774</td>\n",
       "      <td>NaN</td>\n",
       "      <td>NaN</td>\n",
       "      <td>30843.0</td>\n",
       "    </tr>\n",
       "    <tr>\n",
       "      <th>first</th>\n",
       "      <td>NaN</td>\n",
       "      <td>2016-06-11 00:00:00</td>\n",
       "      <td>NaN</td>\n",
       "      <td>NaN</td>\n",
       "      <td>2017-06-01 00:00:00</td>\n",
       "      <td>NaN</td>\n",
       "      <td>NaN</td>\n",
       "      <td>NaN</td>\n",
       "    </tr>\n",
       "    <tr>\n",
       "      <th>last</th>\n",
       "      <td>NaN</td>\n",
       "      <td>2017-06-23 00:00:00</td>\n",
       "      <td>NaN</td>\n",
       "      <td>NaN</td>\n",
       "      <td>2017-06-23 00:00:00</td>\n",
       "      <td>NaN</td>\n",
       "      <td>NaN</td>\n",
       "      <td>NaN</td>\n",
       "    </tr>\n",
       "    <tr>\n",
       "      <th>mean</th>\n",
       "      <td>36915.500000</td>\n",
       "      <td>NaN</td>\n",
       "      <td>NaN</td>\n",
       "      <td>NaN</td>\n",
       "      <td>NaN</td>\n",
       "      <td>1322.905255</td>\n",
       "      <td>1.352987</td>\n",
       "      <td>NaN</td>\n",
       "    </tr>\n",
       "    <tr>\n",
       "      <th>std</th>\n",
       "      <td>21313.029524</td>\n",
       "      <td>NaN</td>\n",
       "      <td>NaN</td>\n",
       "      <td>NaN</td>\n",
       "      <td>NaN</td>\n",
       "      <td>542.624205</td>\n",
       "      <td>0.828914</td>\n",
       "      <td>NaN</td>\n",
       "    </tr>\n",
       "    <tr>\n",
       "      <th>min</th>\n",
       "      <td>1.000000</td>\n",
       "      <td>NaN</td>\n",
       "      <td>NaN</td>\n",
       "      <td>NaN</td>\n",
       "      <td>NaN</td>\n",
       "      <td>145.000000</td>\n",
       "      <td>1.000000</td>\n",
       "      <td>NaN</td>\n",
       "    </tr>\n",
       "    <tr>\n",
       "      <th>25%</th>\n",
       "      <td>18458.250000</td>\n",
       "      <td>NaN</td>\n",
       "      <td>NaN</td>\n",
       "      <td>NaN</td>\n",
       "      <td>NaN</td>\n",
       "      <td>810.000000</td>\n",
       "      <td>1.000000</td>\n",
       "      <td>NaN</td>\n",
       "    </tr>\n",
       "    <tr>\n",
       "      <th>50%</th>\n",
       "      <td>36915.500000</td>\n",
       "      <td>NaN</td>\n",
       "      <td>NaN</td>\n",
       "      <td>NaN</td>\n",
       "      <td>NaN</td>\n",
       "      <td>1340.000000</td>\n",
       "      <td>1.000000</td>\n",
       "      <td>NaN</td>\n",
       "    </tr>\n",
       "    <tr>\n",
       "      <th>75%</th>\n",
       "      <td>55372.750000</td>\n",
       "      <td>NaN</td>\n",
       "      <td>NaN</td>\n",
       "      <td>NaN</td>\n",
       "      <td>NaN</td>\n",
       "      <td>1815.000000</td>\n",
       "      <td>1.000000</td>\n",
       "      <td>NaN</td>\n",
       "    </tr>\n",
       "    <tr>\n",
       "      <th>max</th>\n",
       "      <td>73830.000000</td>\n",
       "      <td>NaN</td>\n",
       "      <td>NaN</td>\n",
       "      <td>NaN</td>\n",
       "      <td>NaN</td>\n",
       "      <td>2245.000000</td>\n",
       "      <td>7.000000</td>\n",
       "      <td>NaN</td>\n",
       "    </tr>\n",
       "  </tbody>\n",
       "</table>\n",
       "</div>"
      ],
      "text/plain": [
       "                  id         booking_date origin destination  \\\n",
       "count   73830.000000                73830  73830       73830   \n",
       "unique           NaN                  200      7           5   \n",
       "top              NaN  2017-06-02 00:00:00      B           B   \n",
       "freq             NaN                 3822  22360       32962   \n",
       "first            NaN  2016-06-11 00:00:00    NaN         NaN   \n",
       "last             NaN  2017-06-23 00:00:00    NaN         NaN   \n",
       "mean    36915.500000                  NaN    NaN         NaN   \n",
       "std     21313.029524                  NaN    NaN         NaN   \n",
       "min         1.000000                  NaN    NaN         NaN   \n",
       "25%     18458.250000                  NaN    NaN         NaN   \n",
       "50%     36915.500000                  NaN    NaN         NaN   \n",
       "75%     55372.750000                  NaN    NaN         NaN   \n",
       "max     73830.000000                  NaN    NaN         NaN   \n",
       "\n",
       "                   dep_date      dep_time           pax  fare_choice  \n",
       "count                 73830  73830.000000  73830.000000      73830.0  \n",
       "unique                   23           NaN           NaN          4.0  \n",
       "top     2017-06-23 00:00:00           NaN           NaN          1.0  \n",
       "freq                   3774           NaN           NaN      30843.0  \n",
       "first   2017-06-01 00:00:00           NaN           NaN          NaN  \n",
       "last    2017-06-23 00:00:00           NaN           NaN          NaN  \n",
       "mean                    NaN   1322.905255      1.352987          NaN  \n",
       "std                     NaN    542.624205      0.828914          NaN  \n",
       "min                     NaN    145.000000      1.000000          NaN  \n",
       "25%                     NaN    810.000000      1.000000          NaN  \n",
       "50%                     NaN   1340.000000      1.000000          NaN  \n",
       "75%                     NaN   1815.000000      1.000000          NaN  \n",
       "max                     NaN   2245.000000      7.000000          NaN  "
      ]
     },
     "execution_count": 8,
     "metadata": {},
     "output_type": "execute_result"
    }
   ],
   "source": [
    "train_df.describe(include='all')"
   ]
  },
  {
   "cell_type": "code",
   "execution_count": 9,
   "metadata": {},
   "outputs": [
    {
     "data": {
      "text/plain": [
       "(73830, 17)"
      ]
     },
     "execution_count": 9,
     "metadata": {},
     "output_type": "execute_result"
    },
    {
     "data": {
      "text/html": [
       "<div>\n",
       "<style scoped>\n",
       "    .dataframe tbody tr th:only-of-type {\n",
       "        vertical-align: middle;\n",
       "    }\n",
       "\n",
       "    .dataframe tbody tr th {\n",
       "        vertical-align: top;\n",
       "    }\n",
       "\n",
       "    .dataframe thead th {\n",
       "        text-align: right;\n",
       "    }\n",
       "</style>\n",
       "<table border=\"1\" class=\"dataframe\">\n",
       "  <thead>\n",
       "    <tr style=\"text-align: right;\">\n",
       "      <th></th>\n",
       "      <th>id</th>\n",
       "      <th>booking_date</th>\n",
       "      <th>origin</th>\n",
       "      <th>destination</th>\n",
       "      <th>dep_date</th>\n",
       "      <th>dep_time</th>\n",
       "      <th>pax</th>\n",
       "      <th>fare_choice</th>\n",
       "      <th>booking_month</th>\n",
       "      <th>booking_week</th>\n",
       "      <th>booking_day</th>\n",
       "      <th>dep_day</th>\n",
       "      <th>dep_time_str</th>\n",
       "      <th>dep_hour</th>\n",
       "      <th>dep_hour_sine</th>\n",
       "      <th>dep_hour_cosine</th>\n",
       "      <th>advance_purchase</th>\n",
       "    </tr>\n",
       "  </thead>\n",
       "  <tbody>\n",
       "    <tr>\n",
       "      <th>0</th>\n",
       "      <td>1</td>\n",
       "      <td>2017-02-10</td>\n",
       "      <td>G</td>\n",
       "      <td>D</td>\n",
       "      <td>2017-06-01</td>\n",
       "      <td>630</td>\n",
       "      <td>2</td>\n",
       "      <td>2</td>\n",
       "      <td>2</td>\n",
       "      <td>6</td>\n",
       "      <td>4</td>\n",
       "      <td>3</td>\n",
       "      <td>0630</td>\n",
       "      <td>6</td>\n",
       "      <td>0.997669</td>\n",
       "      <td>-0.068242</td>\n",
       "      <td>111</td>\n",
       "    </tr>\n",
       "    <tr>\n",
       "      <th>1</th>\n",
       "      <td>2</td>\n",
       "      <td>2017-05-27</td>\n",
       "      <td>D</td>\n",
       "      <td>B</td>\n",
       "      <td>2017-06-01</td>\n",
       "      <td>1745</td>\n",
       "      <td>1</td>\n",
       "      <td>1</td>\n",
       "      <td>5</td>\n",
       "      <td>21</td>\n",
       "      <td>5</td>\n",
       "      <td>3</td>\n",
       "      <td>1745</td>\n",
       "      <td>17</td>\n",
       "      <td>-0.997669</td>\n",
       "      <td>-0.068242</td>\n",
       "      <td>5</td>\n",
       "    </tr>\n",
       "    <tr>\n",
       "      <th>2</th>\n",
       "      <td>3</td>\n",
       "      <td>2017-05-30</td>\n",
       "      <td>B</td>\n",
       "      <td>D</td>\n",
       "      <td>2017-06-01</td>\n",
       "      <td>900</td>\n",
       "      <td>1</td>\n",
       "      <td>4</td>\n",
       "      <td>5</td>\n",
       "      <td>22</td>\n",
       "      <td>1</td>\n",
       "      <td>3</td>\n",
       "      <td>0900</td>\n",
       "      <td>9</td>\n",
       "      <td>0.631088</td>\n",
       "      <td>-0.775711</td>\n",
       "      <td>2</td>\n",
       "    </tr>\n",
       "    <tr>\n",
       "      <th>3</th>\n",
       "      <td>4</td>\n",
       "      <td>2017-05-30</td>\n",
       "      <td>B</td>\n",
       "      <td>A</td>\n",
       "      <td>2017-06-01</td>\n",
       "      <td>2130</td>\n",
       "      <td>2</td>\n",
       "      <td>1</td>\n",
       "      <td>5</td>\n",
       "      <td>22</td>\n",
       "      <td>1</td>\n",
       "      <td>3</td>\n",
       "      <td>2130</td>\n",
       "      <td>21</td>\n",
       "      <td>-0.519584</td>\n",
       "      <td>0.854419</td>\n",
       "      <td>2</td>\n",
       "    </tr>\n",
       "    <tr>\n",
       "      <th>4</th>\n",
       "      <td>5</td>\n",
       "      <td>2017-05-30</td>\n",
       "      <td>D</td>\n",
       "      <td>B</td>\n",
       "      <td>2017-06-01</td>\n",
       "      <td>1240</td>\n",
       "      <td>1</td>\n",
       "      <td>1</td>\n",
       "      <td>5</td>\n",
       "      <td>22</td>\n",
       "      <td>1</td>\n",
       "      <td>3</td>\n",
       "      <td>1240</td>\n",
       "      <td>12</td>\n",
       "      <td>-0.136167</td>\n",
       "      <td>-0.990686</td>\n",
       "      <td>2</td>\n",
       "    </tr>\n",
       "  </tbody>\n",
       "</table>\n",
       "</div>"
      ],
      "text/plain": [
       "   id booking_date origin destination   dep_date  dep_time  pax fare_choice  \\\n",
       "0   1   2017-02-10      G           D 2017-06-01       630    2           2   \n",
       "1   2   2017-05-27      D           B 2017-06-01      1745    1           1   \n",
       "2   3   2017-05-30      B           D 2017-06-01       900    1           4   \n",
       "3   4   2017-05-30      B           A 2017-06-01      2130    2           1   \n",
       "4   5   2017-05-30      D           B 2017-06-01      1240    1           1   \n",
       "\n",
       "   booking_month  booking_week  booking_day  dep_day dep_time_str  dep_hour  \\\n",
       "0              2             6            4        3         0630         6   \n",
       "1              5            21            5        3         1745        17   \n",
       "2              5            22            1        3         0900         9   \n",
       "3              5            22            1        3         2130        21   \n",
       "4              5            22            1        3         1240        12   \n",
       "\n",
       "   dep_hour_sine  dep_hour_cosine  advance_purchase  \n",
       "0       0.997669        -0.068242               111  \n",
       "1      -0.997669        -0.068242                 5  \n",
       "2       0.631088        -0.775711                 2  \n",
       "3      -0.519584         0.854419                 2  \n",
       "4      -0.136167        -0.990686                 2  "
      ]
     },
     "execution_count": 9,
     "metadata": {},
     "output_type": "execute_result"
    }
   ],
   "source": [
    "# Extract some relevent features from available columns\n",
    "train_df = build_features(train_df)\n",
    "train_df.shape\n",
    "train_df.head()"
   ]
  },
  {
   "cell_type": "markdown",
   "metadata": {},
   "source": [
    "## Visual Analysis"
   ]
  },
  {
   "cell_type": "markdown",
   "metadata": {},
   "source": [
    "#### We see that fare_choice 1 is the majority class and fare_choice 3 is the minority.\n",
    "#### We see that there are two peaks in departure hours. One around 7-8 AM and other around 6-8PM\n",
    "#### Cities B and D form bulk of origin and destinations"
   ]
  },
  {
   "cell_type": "code",
   "execution_count": 10,
   "metadata": {},
   "outputs": [
    {
     "data": {
      "image/png": "[encoded data removed]",
      "text/plain": [
       "<Figure size 1440x720 with 4 Axes>"
      ]
     },
     "metadata": {
      "needs_background": "light"
     },
     "output_type": "display_data"
    }
   ],
   "source": [
    "fig, ax = plt.subplots(2, 2, figsize=(20, 10))\n",
    "\n",
    "g = sns.countplot(x='fare_choice', data=train_df, ax=ax[0][0])\n",
    "_ = g.set_title('Distribution of different fare choices')\n",
    "\n",
    "g = sns.countplot(x='dep_hour', data=train_df, ax=ax[0][1])\n",
    "_ = g.set_title('Distribution of departure hours')\n",
    "\n",
    "g = sns.countplot(x='origin', data=train_df, ax=ax[1][0])\n",
    "_ = g.set_title('Distribution of origin')\n",
    "\n",
    "g = sns.countplot(x='destination', data=train_df, ax=ax[1][1])\n",
    "_ = g.set_title('Distribution of destination')"
   ]
  },
  {
   "cell_type": "markdown",
   "metadata": {},
   "source": [
    "#### From the below figure, we can see that fare_choice 2 is the one preferred by early bookers followed by fare_choice 4. Fare choice 1 is used when booking date is closer to departure date."
   ]
  },
  {
   "cell_type": "code",
   "execution_count": 11,
   "metadata": {},
   "outputs": [
    {
     "data": {
      "image/png": "[encoded data removed]",
      "text/plain": [
       "<Figure size 1728x360 with 1 Axes>"
      ]
     },
     "metadata": {
      "needs_background": "light"
     },
     "output_type": "display_data"
    }
   ],
   "source": [
    "_ = plt.figure(figsize=[24, 5])\n",
    "train_df['count'] = 1\n",
    "g = sns.lineplot(x='booking_date', y='count', hue='fare_choice', estimator='sum', data=train_df)\n",
    "_ = g.set_title('Distribution of booking date')"
   ]
  },
  {
   "cell_type": "markdown",
   "metadata": {},
   "source": [
    "#### We don't see any strong trends wrt number of bookings for different departure dates"
   ]
  },
  {
   "cell_type": "code",
   "execution_count": 12,
   "metadata": {},
   "outputs": [
    {
     "data": {
      "image/png": "[encoded data removed]",
      "text/plain": [
       "<Figure size 1728x360 with 1 Axes>"
      ]
     },
     "metadata": {
      "needs_background": "light"
     },
     "output_type": "display_data"
    }
   ],
   "source": [
    "_ = plt.figure(figsize=[24,5])\n",
    "_ = sns.lineplot(x='dep_date', y='count', estimator='sum', data=train_df, color='r', label='Total')\n",
    "g = sns.lineplot(x='dep_date', y='count', hue='fare_choice', estimator='sum', data=train_df)\n",
    "_ = g.set_title('Distribution of depature date')"
   ]
  },
  {
   "cell_type": "markdown",
   "metadata": {},
   "source": [
    "#### Below plot clearly illustrates that fare_choice 2 dominates the early bookings. fare_choice 4 takes over around 3 weeks for depature and fare_choice 1 is dominant when there is only a week left for departure"
   ]
  },
  {
   "cell_type": "code",
   "execution_count": 13,
   "metadata": {},
   "outputs": [
    {
     "data": {
      "image/png": "[encoded data removed]",
      "text/plain": [
       "<Figure size 1728x360 with 1 Axes>"
      ]
     },
     "metadata": {
      "needs_background": "light"
     },
     "output_type": "display_data"
    }
   ],
   "source": [
    "_ = plt.figure(figsize=[24, 5])\n",
    "g = sns.countplot(x='advance_purchase', data=train_df[train_df['advance_purchase'] < 60], hue='fare_choice', palette='RdBu')\n",
    "_ = g.set_title('Progression of different fare choices across different advance purchase')"
   ]
  },
  {
   "cell_type": "markdown",
   "metadata": {},
   "source": [
    "#### Below plot shows how the different fare_choices are dominant in differnt markets"
   ]
  },
  {
   "cell_type": "code",
   "execution_count": 14,
   "metadata": {},
   "outputs": [
    {
     "data": {
      "image/png": "[encoded data removed]",
      "text/plain": [
       "<Figure size 1728x360 with 1 Axes>"
      ]
     },
     "metadata": {
      "needs_background": "light"
     },
     "output_type": "display_data"
    }
   ],
   "source": [
    "_ = plt.figure(figsize=[24, 5])\n",
    "train_df['market'] = train_df['origin'].astype(str) + '-' + train_df['destination'].astype(str)\n",
    "g = sns.countplot(x='market', data=train_df, hue='fare_choice', palette='RdBu')\n",
    "_ = g.set_title('Split of fare choices across different markets')"
   ]
  },
  {
   "cell_type": "markdown",
   "metadata": {},
   "source": [
    "## Prepare the dataset for model building"
   ]
  },
  {
   "cell_type": "code",
   "execution_count": 15,
   "metadata": {},
   "outputs": [
    {
     "data": {
      "text/plain": [
       "(73830, 37)"
      ]
     },
     "execution_count": 15,
     "metadata": {},
     "output_type": "execute_result"
    },
    {
     "data": {
      "text/html": [
       "<div>\n",
       "<style scoped>\n",
       "    .dataframe tbody tr th:only-of-type {\n",
       "        vertical-align: middle;\n",
       "    }\n",
       "\n",
       "    .dataframe tbody tr th {\n",
       "        vertical-align: top;\n",
       "    }\n",
       "\n",
       "    .dataframe thead th {\n",
       "        text-align: right;\n",
       "    }\n",
       "</style>\n",
       "<table border=\"1\" class=\"dataframe\">\n",
       "  <thead>\n",
       "    <tr style=\"text-align: right;\">\n",
       "      <th></th>\n",
       "      <th>id</th>\n",
       "      <th>booking_date</th>\n",
       "      <th>dep_date</th>\n",
       "      <th>dep_time</th>\n",
       "      <th>pax</th>\n",
       "      <th>fare_choice</th>\n",
       "      <th>booking_month</th>\n",
       "      <th>booking_week</th>\n",
       "      <th>dep_time_str</th>\n",
       "      <th>dep_hour</th>\n",
       "      <th>dep_hour_sine</th>\n",
       "      <th>dep_hour_cosine</th>\n",
       "      <th>advance_purchase</th>\n",
       "      <th>count</th>\n",
       "      <th>market</th>\n",
       "      <th>origin_B</th>\n",
       "      <th>origin_C</th>\n",
       "      <th>origin_D</th>\n",
       "      <th>origin_E</th>\n",
       "      <th>origin_F</th>\n",
       "      <th>origin_G</th>\n",
       "      <th>destination_B</th>\n",
       "      <th>destination_C</th>\n",
       "      <th>destination_D</th>\n",
       "      <th>destination_G</th>\n",
       "      <th>booking_day_1</th>\n",
       "      <th>booking_day_2</th>\n",
       "      <th>booking_day_3</th>\n",
       "      <th>booking_day_4</th>\n",
       "      <th>booking_day_5</th>\n",
       "      <th>booking_day_6</th>\n",
       "      <th>dep_day_1</th>\n",
       "      <th>dep_day_2</th>\n",
       "      <th>dep_day_3</th>\n",
       "      <th>dep_day_4</th>\n",
       "      <th>dep_day_5</th>\n",
       "      <th>dep_day_6</th>\n",
       "    </tr>\n",
       "  </thead>\n",
       "  <tbody>\n",
       "    <tr>\n",
       "      <th>0</th>\n",
       "      <td>1</td>\n",
       "      <td>2017-02-10</td>\n",
       "      <td>2017-06-01</td>\n",
       "      <td>630</td>\n",
       "      <td>2</td>\n",
       "      <td>2</td>\n",
       "      <td>2</td>\n",
       "      <td>6</td>\n",
       "      <td>0630</td>\n",
       "      <td>6</td>\n",
       "      <td>0.997669</td>\n",
       "      <td>-0.068242</td>\n",
       "      <td>111</td>\n",
       "      <td>1</td>\n",
       "      <td>G-D</td>\n",
       "      <td>0</td>\n",
       "      <td>0</td>\n",
       "      <td>0</td>\n",
       "      <td>0</td>\n",
       "      <td>0</td>\n",
       "      <td>1</td>\n",
       "      <td>0</td>\n",
       "      <td>0</td>\n",
       "      <td>1</td>\n",
       "      <td>0</td>\n",
       "      <td>0</td>\n",
       "      <td>0</td>\n",
       "      <td>0</td>\n",
       "      <td>1</td>\n",
       "      <td>0</td>\n",
       "      <td>0</td>\n",
       "      <td>0</td>\n",
       "      <td>0</td>\n",
       "      <td>1</td>\n",
       "      <td>0</td>\n",
       "      <td>0</td>\n",
       "      <td>0</td>\n",
       "    </tr>\n",
       "    <tr>\n",
       "      <th>1</th>\n",
       "      <td>2</td>\n",
       "      <td>2017-05-27</td>\n",
       "      <td>2017-06-01</td>\n",
       "      <td>1745</td>\n",
       "      <td>1</td>\n",
       "      <td>1</td>\n",
       "      <td>5</td>\n",
       "      <td>21</td>\n",
       "      <td>1745</td>\n",
       "      <td>17</td>\n",
       "      <td>-0.997669</td>\n",
       "      <td>-0.068242</td>\n",
       "      <td>5</td>\n",
       "      <td>1</td>\n",
       "      <td>D-B</td>\n",
       "      <td>0</td>\n",
       "      <td>0</td>\n",
       "      <td>1</td>\n",
       "      <td>0</td>\n",
       "      <td>0</td>\n",
       "      <td>0</td>\n",
       "      <td>1</td>\n",
       "      <td>0</td>\n",
       "      <td>0</td>\n",
       "      <td>0</td>\n",
       "      <td>0</td>\n",
       "      <td>0</td>\n",
       "      <td>0</td>\n",
       "      <td>0</td>\n",
       "      <td>1</td>\n",
       "      <td>0</td>\n",
       "      <td>0</td>\n",
       "      <td>0</td>\n",
       "      <td>1</td>\n",
       "      <td>0</td>\n",
       "      <td>0</td>\n",
       "      <td>0</td>\n",
       "    </tr>\n",
       "    <tr>\n",
       "      <th>2</th>\n",
       "      <td>3</td>\n",
       "      <td>2017-05-30</td>\n",
       "      <td>2017-06-01</td>\n",
       "      <td>900</td>\n",
       "      <td>1</td>\n",
       "      <td>4</td>\n",
       "      <td>5</td>\n",
       "      <td>22</td>\n",
       "      <td>0900</td>\n",
       "      <td>9</td>\n",
       "      <td>0.631088</td>\n",
       "      <td>-0.775711</td>\n",
       "      <td>2</td>\n",
       "      <td>1</td>\n",
       "      <td>B-D</td>\n",
       "      <td>1</td>\n",
       "      <td>0</td>\n",
       "      <td>0</td>\n",
       "      <td>0</td>\n",
       "      <td>0</td>\n",
       "      <td>0</td>\n",
       "      <td>0</td>\n",
       "      <td>0</td>\n",
       "      <td>1</td>\n",
       "      <td>0</td>\n",
       "      <td>1</td>\n",
       "      <td>0</td>\n",
       "      <td>0</td>\n",
       "      <td>0</td>\n",
       "      <td>0</td>\n",
       "      <td>0</td>\n",
       "      <td>0</td>\n",
       "      <td>0</td>\n",
       "      <td>1</td>\n",
       "      <td>0</td>\n",
       "      <td>0</td>\n",
       "      <td>0</td>\n",
       "    </tr>\n",
       "    <tr>\n",
       "      <th>3</th>\n",
       "      <td>4</td>\n",
       "      <td>2017-05-30</td>\n",
       "      <td>2017-06-01</td>\n",
       "      <td>2130</td>\n",
       "      <td>2</td>\n",
       "      <td>1</td>\n",
       "      <td>5</td>\n",
       "      <td>22</td>\n",
       "      <td>2130</td>\n",
       "      <td>21</td>\n",
       "      <td>-0.519584</td>\n",
       "      <td>0.854419</td>\n",
       "      <td>2</td>\n",
       "      <td>1</td>\n",
       "      <td>B-A</td>\n",
       "      <td>1</td>\n",
       "      <td>0</td>\n",
       "      <td>0</td>\n",
       "      <td>0</td>\n",
       "      <td>0</td>\n",
       "      <td>0</td>\n",
       "      <td>0</td>\n",
       "      <td>0</td>\n",
       "      <td>0</td>\n",
       "      <td>0</td>\n",
       "      <td>1</td>\n",
       "      <td>0</td>\n",
       "      <td>0</td>\n",
       "      <td>0</td>\n",
       "      <td>0</td>\n",
       "      <td>0</td>\n",
       "      <td>0</td>\n",
       "      <td>0</td>\n",
       "      <td>1</td>\n",
       "      <td>0</td>\n",
       "      <td>0</td>\n",
       "      <td>0</td>\n",
       "    </tr>\n",
       "    <tr>\n",
       "      <th>4</th>\n",
       "      <td>5</td>\n",
       "      <td>2017-05-30</td>\n",
       "      <td>2017-06-01</td>\n",
       "      <td>1240</td>\n",
       "      <td>1</td>\n",
       "      <td>1</td>\n",
       "      <td>5</td>\n",
       "      <td>22</td>\n",
       "      <td>1240</td>\n",
       "      <td>12</td>\n",
       "      <td>-0.136167</td>\n",
       "      <td>-0.990686</td>\n",
       "      <td>2</td>\n",
       "      <td>1</td>\n",
       "      <td>D-B</td>\n",
       "      <td>0</td>\n",
       "      <td>0</td>\n",
       "      <td>1</td>\n",
       "      <td>0</td>\n",
       "      <td>0</td>\n",
       "      <td>0</td>\n",
       "      <td>1</td>\n",
       "      <td>0</td>\n",
       "      <td>0</td>\n",
       "      <td>0</td>\n",
       "      <td>1</td>\n",
       "      <td>0</td>\n",
       "      <td>0</td>\n",
       "      <td>0</td>\n",
       "      <td>0</td>\n",
       "      <td>0</td>\n",
       "      <td>0</td>\n",
       "      <td>0</td>\n",
       "      <td>1</td>\n",
       "      <td>0</td>\n",
       "      <td>0</td>\n",
       "      <td>0</td>\n",
       "    </tr>\n",
       "  </tbody>\n",
       "</table>\n",
       "</div>"
      ],
      "text/plain": [
       "   id booking_date   dep_date  dep_time  pax fare_choice  booking_month  \\\n",
       "0   1   2017-02-10 2017-06-01       630    2           2              2   \n",
       "1   2   2017-05-27 2017-06-01      1745    1           1              5   \n",
       "2   3   2017-05-30 2017-06-01       900    1           4              5   \n",
       "3   4   2017-05-30 2017-06-01      2130    2           1              5   \n",
       "4   5   2017-05-30 2017-06-01      1240    1           1              5   \n",
       "\n",
       "   booking_week dep_time_str  dep_hour  dep_hour_sine  dep_hour_cosine  \\\n",
       "0             6         0630         6       0.997669        -0.068242   \n",
       "1            21         1745        17      -0.997669        -0.068242   \n",
       "2            22         0900         9       0.631088        -0.775711   \n",
       "3            22         2130        21      -0.519584         0.854419   \n",
       "4            22         1240        12      -0.136167        -0.990686   \n",
       "\n",
       "   advance_purchase  count market  origin_B  origin_C  origin_D  origin_E  \\\n",
       "0               111      1    G-D         0         0         0         0   \n",
       "1                 5      1    D-B         0         0         1         0   \n",
       "2                 2      1    B-D         1         0         0         0   \n",
       "3                 2      1    B-A         1         0         0         0   \n",
       "4                 2      1    D-B         0         0         1         0   \n",
       "\n",
       "   origin_F  origin_G  destination_B  destination_C  destination_D  \\\n",
       "0         0         1              0              0              1   \n",
       "1         0         0              1              0              0   \n",
       "2         0         0              0              0              1   \n",
       "3         0         0              0              0              0   \n",
       "4         0         0              1              0              0   \n",
       "\n",
       "   destination_G  booking_day_1  booking_day_2  booking_day_3  booking_day_4  \\\n",
       "0              0              0              0              0              1   \n",
       "1              0              0              0              0              0   \n",
       "2              0              1              0              0              0   \n",
       "3              0              1              0              0              0   \n",
       "4              0              1              0              0              0   \n",
       "\n",
       "   booking_day_5  booking_day_6  dep_day_1  dep_day_2  dep_day_3  dep_day_4  \\\n",
       "0              0              0          0          0          1          0   \n",
       "1              1              0          0          0          1          0   \n",
       "2              0              0          0          0          1          0   \n",
       "3              0              0          0          0          1          0   \n",
       "4              0              0          0          0          1          0   \n",
       "\n",
       "   dep_day_5  dep_day_6  \n",
       "0          0          0  \n",
       "1          0          0  \n",
       "2          0          0  \n",
       "3          0          0  \n",
       "4          0          0  "
      ]
     },
     "execution_count": 15,
     "metadata": {},
     "output_type": "execute_result"
    }
   ],
   "source": [
    "# One hot encode the categorical variables\n",
    "train_df = pd.get_dummies(train_df, columns=['origin', 'destination', 'booking_day', 'dep_day'], drop_first=True)\n",
    "train_df.shape\n",
    "train_df.head()"
   ]
  },
  {
   "cell_type": "code",
   "execution_count": 16,
   "metadata": {},
   "outputs": [],
   "source": [
    "# We load the test set which also has actual booked fare_choice. We will use this to verify final log_loss on the test data"
   ]
  },
  {
   "cell_type": "code",
   "execution_count": 17,
   "metadata": {},
   "outputs": [
    {
     "data": {
      "text/plain": [
       "(22830, 8)"
      ]
     },
     "execution_count": 17,
     "metadata": {},
     "output_type": "execute_result"
    },
    {
     "data": {
      "text/html": [
       "<div>\n",
       "<style scoped>\n",
       "    .dataframe tbody tr th:only-of-type {\n",
       "        vertical-align: middle;\n",
       "    }\n",
       "\n",
       "    .dataframe tbody tr th {\n",
       "        vertical-align: top;\n",
       "    }\n",
       "\n",
       "    .dataframe thead th {\n",
       "        text-align: right;\n",
       "    }\n",
       "</style>\n",
       "<table border=\"1\" class=\"dataframe\">\n",
       "  <thead>\n",
       "    <tr style=\"text-align: right;\">\n",
       "      <th></th>\n",
       "      <th>id</th>\n",
       "      <th>booking_date</th>\n",
       "      <th>origin</th>\n",
       "      <th>destination</th>\n",
       "      <th>dep_date</th>\n",
       "      <th>dep_time</th>\n",
       "      <th>pax</th>\n",
       "      <th>fare_choice</th>\n",
       "    </tr>\n",
       "  </thead>\n",
       "  <tbody>\n",
       "    <tr>\n",
       "      <th>0</th>\n",
       "      <td>73831</td>\n",
       "      <td>2017-04-21</td>\n",
       "      <td>A</td>\n",
       "      <td>D</td>\n",
       "      <td>2017-06-24</td>\n",
       "      <td>1745</td>\n",
       "      <td>2</td>\n",
       "      <td>2</td>\n",
       "    </tr>\n",
       "    <tr>\n",
       "      <th>1</th>\n",
       "      <td>73832</td>\n",
       "      <td>2017-05-24</td>\n",
       "      <td>B</td>\n",
       "      <td>D</td>\n",
       "      <td>2017-06-24</td>\n",
       "      <td>1700</td>\n",
       "      <td>2</td>\n",
       "      <td>2</td>\n",
       "    </tr>\n",
       "    <tr>\n",
       "      <th>2</th>\n",
       "      <td>73833</td>\n",
       "      <td>2017-04-12</td>\n",
       "      <td>A</td>\n",
       "      <td>D</td>\n",
       "      <td>2017-06-24</td>\n",
       "      <td>700</td>\n",
       "      <td>1</td>\n",
       "      <td>2</td>\n",
       "    </tr>\n",
       "    <tr>\n",
       "      <th>3</th>\n",
       "      <td>73834</td>\n",
       "      <td>2017-06-21</td>\n",
       "      <td>A</td>\n",
       "      <td>D</td>\n",
       "      <td>2017-06-24</td>\n",
       "      <td>1125</td>\n",
       "      <td>2</td>\n",
       "      <td>3</td>\n",
       "    </tr>\n",
       "    <tr>\n",
       "      <th>4</th>\n",
       "      <td>73835</td>\n",
       "      <td>2017-05-31</td>\n",
       "      <td>B</td>\n",
       "      <td>C</td>\n",
       "      <td>2017-06-24</td>\n",
       "      <td>1905</td>\n",
       "      <td>1</td>\n",
       "      <td>4</td>\n",
       "    </tr>\n",
       "  </tbody>\n",
       "</table>\n",
       "</div>"
      ],
      "text/plain": [
       "      id booking_date origin destination   dep_date  dep_time  pax  \\\n",
       "0  73831   2017-04-21      A           D 2017-06-24      1745    2   \n",
       "1  73832   2017-05-24      B           D 2017-06-24      1700    2   \n",
       "2  73833   2017-04-12      A           D 2017-06-24       700    1   \n",
       "3  73834   2017-06-21      A           D 2017-06-24      1125    2   \n",
       "4  73835   2017-05-31      B           C 2017-06-24      1905    1   \n",
       "\n",
       "   fare_choice  \n",
       "0            2  \n",
       "1            2  \n",
       "2            2  \n",
       "3            3  \n",
       "4            4  "
      ]
     },
     "execution_count": 17,
     "metadata": {},
     "output_type": "execute_result"
    }
   ],
   "source": [
    "test_df = pd.read_csv('test_encoded.csv', sep='^', na_filter=False, low_memory=False,\n",
    "                       parse_dates=['booking_date', 'dep_date'], infer_datetime_format=True)\n",
    "\n",
    "test_df.shape\n",
    "test_df.head()"
   ]
  },
  {
   "cell_type": "code",
   "execution_count": 18,
   "metadata": {},
   "outputs": [
    {
     "data": {
      "text/plain": [
       "(22830, 35)"
      ]
     },
     "execution_count": 18,
     "metadata": {},
     "output_type": "execute_result"
    },
    {
     "data": {
      "text/html": [
       "<div>\n",
       "<style scoped>\n",
       "    .dataframe tbody tr th:only-of-type {\n",
       "        vertical-align: middle;\n",
       "    }\n",
       "\n",
       "    .dataframe tbody tr th {\n",
       "        vertical-align: top;\n",
       "    }\n",
       "\n",
       "    .dataframe thead th {\n",
       "        text-align: right;\n",
       "    }\n",
       "</style>\n",
       "<table border=\"1\" class=\"dataframe\">\n",
       "  <thead>\n",
       "    <tr style=\"text-align: right;\">\n",
       "      <th></th>\n",
       "      <th>id</th>\n",
       "      <th>booking_date</th>\n",
       "      <th>dep_date</th>\n",
       "      <th>dep_time</th>\n",
       "      <th>pax</th>\n",
       "      <th>fare_choice</th>\n",
       "      <th>booking_month</th>\n",
       "      <th>booking_week</th>\n",
       "      <th>dep_time_str</th>\n",
       "      <th>dep_hour</th>\n",
       "      <th>dep_hour_sine</th>\n",
       "      <th>dep_hour_cosine</th>\n",
       "      <th>advance_purchase</th>\n",
       "      <th>origin_B</th>\n",
       "      <th>origin_C</th>\n",
       "      <th>origin_D</th>\n",
       "      <th>origin_E</th>\n",
       "      <th>origin_F</th>\n",
       "      <th>origin_G</th>\n",
       "      <th>destination_B</th>\n",
       "      <th>destination_C</th>\n",
       "      <th>destination_D</th>\n",
       "      <th>destination_G</th>\n",
       "      <th>booking_day_1</th>\n",
       "      <th>booking_day_2</th>\n",
       "      <th>booking_day_3</th>\n",
       "      <th>booking_day_4</th>\n",
       "      <th>booking_day_5</th>\n",
       "      <th>booking_day_6</th>\n",
       "      <th>dep_day_1</th>\n",
       "      <th>dep_day_2</th>\n",
       "      <th>dep_day_3</th>\n",
       "      <th>dep_day_4</th>\n",
       "      <th>dep_day_5</th>\n",
       "      <th>dep_day_6</th>\n",
       "    </tr>\n",
       "  </thead>\n",
       "  <tbody>\n",
       "    <tr>\n",
       "      <th>0</th>\n",
       "      <td>73831</td>\n",
       "      <td>2017-04-21</td>\n",
       "      <td>2017-06-24</td>\n",
       "      <td>1745</td>\n",
       "      <td>2</td>\n",
       "      <td>2</td>\n",
       "      <td>4</td>\n",
       "      <td>16</td>\n",
       "      <td>1745</td>\n",
       "      <td>17</td>\n",
       "      <td>-0.997669</td>\n",
       "      <td>-0.068242</td>\n",
       "      <td>64</td>\n",
       "      <td>0</td>\n",
       "      <td>0</td>\n",
       "      <td>0</td>\n",
       "      <td>0</td>\n",
       "      <td>0</td>\n",
       "      <td>0</td>\n",
       "      <td>0</td>\n",
       "      <td>0</td>\n",
       "      <td>1</td>\n",
       "      <td>0</td>\n",
       "      <td>0</td>\n",
       "      <td>0</td>\n",
       "      <td>0</td>\n",
       "      <td>1</td>\n",
       "      <td>0</td>\n",
       "      <td>0</td>\n",
       "      <td>0</td>\n",
       "      <td>0</td>\n",
       "      <td>0</td>\n",
       "      <td>0</td>\n",
       "      <td>1</td>\n",
       "      <td>0</td>\n",
       "    </tr>\n",
       "    <tr>\n",
       "      <th>1</th>\n",
       "      <td>73832</td>\n",
       "      <td>2017-05-24</td>\n",
       "      <td>2017-06-24</td>\n",
       "      <td>1700</td>\n",
       "      <td>2</td>\n",
       "      <td>2</td>\n",
       "      <td>5</td>\n",
       "      <td>21</td>\n",
       "      <td>1700</td>\n",
       "      <td>17</td>\n",
       "      <td>-0.997669</td>\n",
       "      <td>-0.068242</td>\n",
       "      <td>31</td>\n",
       "      <td>1</td>\n",
       "      <td>0</td>\n",
       "      <td>0</td>\n",
       "      <td>0</td>\n",
       "      <td>0</td>\n",
       "      <td>0</td>\n",
       "      <td>0</td>\n",
       "      <td>0</td>\n",
       "      <td>1</td>\n",
       "      <td>0</td>\n",
       "      <td>0</td>\n",
       "      <td>1</td>\n",
       "      <td>0</td>\n",
       "      <td>0</td>\n",
       "      <td>0</td>\n",
       "      <td>0</td>\n",
       "      <td>0</td>\n",
       "      <td>0</td>\n",
       "      <td>0</td>\n",
       "      <td>0</td>\n",
       "      <td>1</td>\n",
       "      <td>0</td>\n",
       "    </tr>\n",
       "    <tr>\n",
       "      <th>2</th>\n",
       "      <td>73833</td>\n",
       "      <td>2017-04-12</td>\n",
       "      <td>2017-06-24</td>\n",
       "      <td>700</td>\n",
       "      <td>1</td>\n",
       "      <td>2</td>\n",
       "      <td>4</td>\n",
       "      <td>15</td>\n",
       "      <td>0700</td>\n",
       "      <td>7</td>\n",
       "      <td>0.942261</td>\n",
       "      <td>-0.334880</td>\n",
       "      <td>73</td>\n",
       "      <td>0</td>\n",
       "      <td>0</td>\n",
       "      <td>0</td>\n",
       "      <td>0</td>\n",
       "      <td>0</td>\n",
       "      <td>0</td>\n",
       "      <td>0</td>\n",
       "      <td>0</td>\n",
       "      <td>1</td>\n",
       "      <td>0</td>\n",
       "      <td>0</td>\n",
       "      <td>1</td>\n",
       "      <td>0</td>\n",
       "      <td>0</td>\n",
       "      <td>0</td>\n",
       "      <td>0</td>\n",
       "      <td>0</td>\n",
       "      <td>0</td>\n",
       "      <td>0</td>\n",
       "      <td>0</td>\n",
       "      <td>1</td>\n",
       "      <td>0</td>\n",
       "    </tr>\n",
       "    <tr>\n",
       "      <th>3</th>\n",
       "      <td>73834</td>\n",
       "      <td>2017-06-21</td>\n",
       "      <td>2017-06-24</td>\n",
       "      <td>1125</td>\n",
       "      <td>2</td>\n",
       "      <td>3</td>\n",
       "      <td>6</td>\n",
       "      <td>25</td>\n",
       "      <td>1125</td>\n",
       "      <td>11</td>\n",
       "      <td>0.136167</td>\n",
       "      <td>-0.990686</td>\n",
       "      <td>3</td>\n",
       "      <td>0</td>\n",
       "      <td>0</td>\n",
       "      <td>0</td>\n",
       "      <td>0</td>\n",
       "      <td>0</td>\n",
       "      <td>0</td>\n",
       "      <td>0</td>\n",
       "      <td>0</td>\n",
       "      <td>1</td>\n",
       "      <td>0</td>\n",
       "      <td>0</td>\n",
       "      <td>1</td>\n",
       "      <td>0</td>\n",
       "      <td>0</td>\n",
       "      <td>0</td>\n",
       "      <td>0</td>\n",
       "      <td>0</td>\n",
       "      <td>0</td>\n",
       "      <td>0</td>\n",
       "      <td>0</td>\n",
       "      <td>1</td>\n",
       "      <td>0</td>\n",
       "    </tr>\n",
       "    <tr>\n",
       "      <th>4</th>\n",
       "      <td>73835</td>\n",
       "      <td>2017-05-31</td>\n",
       "      <td>2017-06-24</td>\n",
       "      <td>1905</td>\n",
       "      <td>1</td>\n",
       "      <td>4</td>\n",
       "      <td>5</td>\n",
       "      <td>22</td>\n",
       "      <td>1905</td>\n",
       "      <td>19</td>\n",
       "      <td>-0.887885</td>\n",
       "      <td>0.460065</td>\n",
       "      <td>24</td>\n",
       "      <td>1</td>\n",
       "      <td>0</td>\n",
       "      <td>0</td>\n",
       "      <td>0</td>\n",
       "      <td>0</td>\n",
       "      <td>0</td>\n",
       "      <td>0</td>\n",
       "      <td>1</td>\n",
       "      <td>0</td>\n",
       "      <td>0</td>\n",
       "      <td>0</td>\n",
       "      <td>1</td>\n",
       "      <td>0</td>\n",
       "      <td>0</td>\n",
       "      <td>0</td>\n",
       "      <td>0</td>\n",
       "      <td>0</td>\n",
       "      <td>0</td>\n",
       "      <td>0</td>\n",
       "      <td>0</td>\n",
       "      <td>1</td>\n",
       "      <td>0</td>\n",
       "    </tr>\n",
       "  </tbody>\n",
       "</table>\n",
       "</div>"
      ],
      "text/plain": [
       "      id booking_date   dep_date  dep_time  pax  fare_choice  booking_month  \\\n",
       "0  73831   2017-04-21 2017-06-24      1745    2            2              4   \n",
       "1  73832   2017-05-24 2017-06-24      1700    2            2              5   \n",
       "2  73833   2017-04-12 2017-06-24       700    1            2              4   \n",
       "3  73834   2017-06-21 2017-06-24      1125    2            3              6   \n",
       "4  73835   2017-05-31 2017-06-24      1905    1            4              5   \n",
       "\n",
       "   booking_week dep_time_str  dep_hour  dep_hour_sine  dep_hour_cosine  \\\n",
       "0            16         1745        17      -0.997669        -0.068242   \n",
       "1            21         1700        17      -0.997669        -0.068242   \n",
       "2            15         0700         7       0.942261        -0.334880   \n",
       "3            25         1125        11       0.136167        -0.990686   \n",
       "4            22         1905        19      -0.887885         0.460065   \n",
       "\n",
       "   advance_purchase  origin_B  origin_C  origin_D  origin_E  origin_F  \\\n",
       "0                64         0         0         0         0         0   \n",
       "1                31         1         0         0         0         0   \n",
       "2                73         0         0         0         0         0   \n",
       "3                 3         0         0         0         0         0   \n",
       "4                24         1         0         0         0         0   \n",
       "\n",
       "   origin_G  destination_B  destination_C  destination_D  destination_G  \\\n",
       "0         0              0              0              1              0   \n",
       "1         0              0              0              1              0   \n",
       "2         0              0              0              1              0   \n",
       "3         0              0              0              1              0   \n",
       "4         0              0              1              0              0   \n",
       "\n",
       "   booking_day_1  booking_day_2  booking_day_3  booking_day_4  booking_day_5  \\\n",
       "0              0              0              0              1              0   \n",
       "1              0              1              0              0              0   \n",
       "2              0              1              0              0              0   \n",
       "3              0              1              0              0              0   \n",
       "4              0              1              0              0              0   \n",
       "\n",
       "   booking_day_6  dep_day_1  dep_day_2  dep_day_3  dep_day_4  dep_day_5  \\\n",
       "0              0          0          0          0          0          1   \n",
       "1              0          0          0          0          0          1   \n",
       "2              0          0          0          0          0          1   \n",
       "3              0          0          0          0          0          1   \n",
       "4              0          0          0          0          0          1   \n",
       "\n",
       "   dep_day_6  \n",
       "0          0  \n",
       "1          0  \n",
       "2          0  \n",
       "3          0  \n",
       "4          0  "
      ]
     },
     "execution_count": 18,
     "metadata": {},
     "output_type": "execute_result"
    }
   ],
   "source": [
    "test_df = build_features(test_df)\n",
    "test_df = pd.get_dummies(test_df, columns=['origin', 'destination', 'booking_day', 'dep_day'], drop_first=True)\n",
    "\n",
    "test_df.shape\n",
    "test_df.head()"
   ]
  },
  {
   "cell_type": "code",
   "execution_count": 19,
   "metadata": {},
   "outputs": [
    {
     "name": "stdout",
     "output_type": "stream",
     "text": [
      "(73830, 26)\n",
      "(22830, 26)\n"
     ]
    }
   ],
   "source": [
    "# Select required features and define training and test dataset\n",
    "X_train = train_df[['booking_month', 'booking_week', 'booking_day_1', 'booking_day_2', 'booking_day_3', 'booking_day_4', 'booking_day_5', 'booking_day_6',\n",
    "                    'dep_hour', 'advance_purchase', 'dep_day_1', 'dep_day_2', 'dep_day_3', 'dep_day_4', 'dep_day_5', 'dep_day_6',\n",
    "                    'origin_B', 'origin_C', 'origin_D', 'origin_F', 'origin_G',\n",
    "                    'destination_B', 'destination_C', 'destination_D', 'destination_G',\n",
    "                    'pax']]\n",
    "y_train = train_df['fare_choice']\n",
    "\n",
    "X_test = test_df[['booking_month', 'booking_week', 'booking_day_1', 'booking_day_2', 'booking_day_3', 'booking_day_4', 'booking_day_5', 'booking_day_6',\n",
    "                    'dep_hour', 'advance_purchase', 'dep_day_1', 'dep_day_2', 'dep_day_3', 'dep_day_4', 'dep_day_5', 'dep_day_6',\n",
    "                    'origin_B', 'origin_C', 'origin_D', 'origin_F', 'origin_G',\n",
    "                    'destination_B', 'destination_C', 'destination_D', 'destination_G',\n",
    "                    'pax']]\n",
    "y_true = test_df['fare_choice']\n",
    "\n",
    "print(X_train.shape)\n",
    "print(X_test.shape)"
   ]
  },
  {
   "cell_type": "markdown",
   "metadata": {},
   "source": [
    "## Model Building"
   ]
  },
  {
   "cell_type": "markdown",
   "metadata": {},
   "source": [
    "#### Parameter tuning of Random Forest using Randomized Grid Search"
   ]
  },
  {
   "cell_type": "code",
   "execution_count": 20,
   "metadata": {},
   "outputs": [
    {
     "data": {
      "text/plain": [
       "{'n_estimators': [200, 400, 600, 800, 1000, 1200, 1400, 1600, 1800, 2000],\n",
       " 'max_features': ['auto', 'sqrt'],\n",
       " 'max_depth': [10, 20, 30, 40, 50, 60, 70, 80, 90, 100, 110, None],\n",
       " 'min_samples_split': [2, 5, 10],\n",
       " 'min_samples_leaf': [1, 2, 4],\n",
       " 'bootstrap': [True, False]}"
      ]
     },
     "execution_count": 20,
     "metadata": {},
     "output_type": "execute_result"
    }
   ],
   "source": [
    "# Number of trees in random forest\n",
    "n_estimators = [int(x) for x in np.linspace(start = 200, stop = 2000, num = 10)]\n",
    "# Number of features to consider at every split\n",
    "max_features = ['auto', 'sqrt']\n",
    "# Maximum number of levels in tree\n",
    "max_depth = [int(x) for x in np.linspace(10, 110, num = 11)]\n",
    "max_depth.append(None)\n",
    "# Minimum number of samples required to split a node\n",
    "min_samples_split = [2, 5, 10]\n",
    "# Minimum number of samples required at each leaf node\n",
    "min_samples_leaf = [1, 2, 4]\n",
    "# Method of selecting samples for training each tree\n",
    "bootstrap = [True, False]\n",
    "# Create the random grid\n",
    "random_grid = {'n_estimators': n_estimators,\n",
    "               'max_features': max_features,\n",
    "               'max_depth': max_depth,\n",
    "               'min_samples_split': min_samples_split,\n",
    "               'min_samples_leaf': min_samples_leaf,\n",
    "               'bootstrap': bootstrap}\n",
    "random_grid"
   ]
  },
  {
   "cell_type": "code",
   "execution_count": 21,
   "metadata": {},
   "outputs": [
    {
     "name": "stdout",
     "output_type": "stream",
     "text": [
      "Fitting 3 folds for each of 100 candidates, totalling 300 fits\n"
     ]
    },
    {
     "data": {
      "text/plain": [
       "RandomizedSearchCV(cv=3, estimator=RandomForestClassifier(random_state=5),\n",
       "                   n_iter=100, n_jobs=-1,\n",
       "                   param_distributions={'bootstrap': [True, False],\n",
       "                                        'max_depth': [10, 20, 30, 40, 50, 60,\n",
       "                                                      70, 80, 90, 100, 110,\n",
       "                                                      None],\n",
       "                                        'max_features': ['auto', 'sqrt'],\n",
       "                                        'min_samples_leaf': [1, 2, 4],\n",
       "                                        'min_samples_split': [2, 5, 10],\n",
       "                                        'n_estimators': [200, 400, 600, 800,\n",
       "                                                         1000, 1200, 1400, 1600,\n",
       "                                                         1800, 2000]},\n",
       "                   scoring='neg_log_loss', verbose=1)"
      ]
     },
     "execution_count": 21,
     "metadata": {},
     "output_type": "execute_result"
    },
    {
     "data": {
      "text/plain": [
       "{'n_estimators': 1200,\n",
       " 'min_samples_split': 10,\n",
       " 'min_samples_leaf': 4,\n",
       " 'max_features': 'auto',\n",
       " 'max_depth': 20,\n",
       " 'bootstrap': True}"
      ]
     },
     "execution_count": 21,
     "metadata": {},
     "output_type": "execute_result"
    }
   ],
   "source": [
    "rf = RandomForestClassifier(random_state=5)\n",
    "rf_random = RandomizedSearchCV(estimator=rf, param_distributions=random_grid, n_iter=100, scoring='neg_log_loss', cv=3, verbose=1, n_jobs=-1)\n",
    "rf_random.fit(X_train, y_train)\n",
    "rf_random.best_params_\n"
   ]
  },
  {
   "cell_type": "markdown",
   "metadata": {},
   "source": [
    "### Use the best model and predict probabilities. Calculate log_loss and other metrics"
   ]
  },
  {
   "cell_type": "code",
   "execution_count": 24,
   "metadata": {},
   "outputs": [
    {
     "data": {
      "text/plain": [
       "RandomForestClassifier(max_depth=20, min_samples_leaf=4, min_samples_split=10,\n",
       "                       n_estimators=1200, n_jobs=-1, random_state=5)"
      ]
     },
     "execution_count": 24,
     "metadata": {},
     "output_type": "execute_result"
    }
   ],
   "source": [
    "final_model = RandomForestClassifier(n_estimators=1200,\n",
    "                                     min_samples_split=10,\n",
    "                                     min_samples_leaf=4,\n",
    "                                     max_features='auto',\n",
    "                                     max_depth=20,\n",
    "                                     bootstrap=True,\n",
    "                                     random_state=5,\n",
    "                                     n_jobs=-1)\n",
    "\n",
    "final_model.fit(X_train, y_train)\n",
    "y_pred = final_model.predict(X_test)\n",
    "\n",
    "pred_prob = final_model.predict_proba(X_test)\n"
   ]
  },
  {
   "cell_type": "code",
   "execution_count": 25,
   "metadata": {},
   "outputs": [
    {
     "name": "stdout",
     "output_type": "stream",
     "text": [
      "Log Loss of the model:  0.6431332270523202\n",
      "Accuaracy of the model: 75.13797634691196\n",
      "Macro F1 score of the model: 70.93332005108803\n"
     ]
    }
   ],
   "source": [
    "print('Log Loss of the model: ', log_loss(y_true, pred_prob))\n",
    "print('Accuaracy of the model:' , (accuracy_score(y_true, y_pred)) * 100)\n",
    "print('Macro F1 score of the model:', (f1_score(y_true, y_pred, average='macro')) * 100)"
   ]
  },
  {
   "cell_type": "code",
   "execution_count": null,
   "metadata": {},
   "outputs": [],
   "source": []
  }
 ],
 "metadata": {
  "kernelspec": {
   "display_name": "Python 3",
   "language": "python",
   "name": "python3"
  },
  "language_info": {
   "codemirror_mode": {
    "name": "ipython",
    "version": 3
   },
   "file_extension": ".py",
   "mimetype": "text/x-python",
   "name": "python",
   "nbconvert_exporter": "python",
   "pygments_lexer": "ipython3",
   "version": "3.8.5"
  }
 },
 "nbformat": 4,
 "nbformat_minor": 2
}
